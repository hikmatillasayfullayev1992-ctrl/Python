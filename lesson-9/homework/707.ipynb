Exception handling and file hendling
try:
    int(husan)
    int('husan')
except ValueError:
    print("ko`rsatkish noto`g`ri")
except NameError:
    print('name xato')
name xato
try:
    int(husan)
    int('husan')
except Exception:
    pass
try:
    name='alex'
    name+20
    print('Hello uzbekiston')
except TypeError:
    print('name xato')
else:
    print('bir balo')
finally:
    print('to`y tugadi')
name xato
to`y tugadi
with open('misol.txt','r') as f:
    data=f.read(12)
    data2=f.read()
data
'We are lerni'
with open("C:\\Users\\user\\Desktop\\misol.txt",'r') as f:
    data=f.read()
data
'We are lerning Puthon but everyone bot happy. Ibelive you can achive everything.'
with open('misol.txt','r') as f:
    data=f.read(12)
    f.seek(12)
    data2=f.read(12)
print(data)
print(data2)
We are lerni
ng Puthon bu
with open('students.txt','r') as f:
    data=f.readlines()
#print(data)
print(data)
['1 Akmal\n', '\n', '2 Anvar\n', '\n', '3 Malika\n', '4 Johon']
with open('uzbeks.txt','a') as f:
    data=f.write('\trrr')
#print(data)
